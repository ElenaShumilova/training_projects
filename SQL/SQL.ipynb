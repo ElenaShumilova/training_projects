{
 "cells": [
  {
   "cell_type": "markdown",
   "metadata": {
    "toc": true
   },
   "source": [
    "<h1>Содержание<span class=\"tocSkip\"></span></h1>\n",
    "<div class=\"toc\"><ul class=\"toc-item\"><li><span><a href=\"#Цели-исследования\" data-toc-modified-id=\"Цели-исследования-1\"><span class=\"toc-item-num\">1&nbsp;&nbsp;</span>Цели исследования</a></span></li><li><span><a href=\"#Изучение-данных\" data-toc-modified-id=\"Изучение-данных-2\"><span class=\"toc-item-num\">2&nbsp;&nbsp;</span>Изучение данных</a></span></li><li><span><a href=\"#SQL-запросы\" data-toc-modified-id=\"SQL-запросы-3\"><span class=\"toc-item-num\">3&nbsp;&nbsp;</span>SQL-запросы</a></span><ul class=\"toc-item\"><li><span><a href=\"#Посчитайте,-сколько-книг-вышло-после-1-января-2000-года.\" data-toc-modified-id=\"Посчитайте,-сколько-книг-вышло-после-1-января-2000-года.-3.1\"><span class=\"toc-item-num\">3.1&nbsp;&nbsp;</span>Посчитайте, сколько книг вышло после 1 января 2000 года.</a></span></li><li><span><a href=\"#Для-каждой-книги-посчитайте-количество-обзоров-и-среднюю-оценку.\" data-toc-modified-id=\"Для-каждой-книги-посчитайте-количество-обзоров-и-среднюю-оценку.-3.2\"><span class=\"toc-item-num\">3.2&nbsp;&nbsp;</span>Для каждой книги посчитайте количество обзоров и среднюю оценку.</a></span></li><li><span><a href=\"#Определите-издательство,-которое-выпустило-наибольшее-число-книг-толще-50-страниц-—-так-вы-исключите-из-анализа-брошюры.\" data-toc-modified-id=\"Определите-издательство,-которое-выпустило-наибольшее-число-книг-толще-50-страниц-—-так-вы-исключите-из-анализа-брошюры.-3.3\"><span class=\"toc-item-num\">3.3&nbsp;&nbsp;</span>Определите издательство, которое выпустило наибольшее число книг толще 50 страниц — так вы исключите из анализа брошюры.</a></span></li><li><span><a href=\"#Определите-автора-с-самой-высокой-средней-оценкой-книг-—-учитывайте-только-книги-с-50-и-более-оценками.\" data-toc-modified-id=\"Определите-автора-с-самой-высокой-средней-оценкой-книг-—-учитывайте-только-книги-с-50-и-более-оценками.-3.4\"><span class=\"toc-item-num\">3.4&nbsp;&nbsp;</span>Определите автора с самой высокой средней оценкой книг — учитывайте только книги с 50 и более оценками.</a></span></li><li><span><a href=\"#Посчитайте-среднее-количество-обзоров-от-пользователей,-которые-поставили-больше-50-оценок.\" data-toc-modified-id=\"Посчитайте-среднее-количество-обзоров-от-пользователей,-которые-поставили-больше-50-оценок.-3.5\"><span class=\"toc-item-num\">3.5&nbsp;&nbsp;</span>Посчитайте среднее количество обзоров от пользователей, которые поставили больше 50 оценок.</a></span></li></ul></li><li><span><a href=\"#Выводы\" data-toc-modified-id=\"Выводы-4\"><span class=\"toc-item-num\">4&nbsp;&nbsp;</span>Выводы</a></span></li></ul></div>"
   ]
  },
  {
   "cell_type": "markdown",
   "metadata": {},
   "source": [
    "# Проект по SQL"
   ]
  },
  {
   "cell_type": "markdown",
   "metadata": {},
   "source": [
    "## Цели исследования"
   ]
  },
  {
   "cell_type": "markdown",
   "metadata": {},
   "source": [
    "Наша компания купила крупный сервис для чтения книг по подписке. Наша первая задача как аналитика — проанализировать базу данных. В ней — информация о книгах, издательствах, авторах, а также пользовательские обзоры книг. Эти данные помогут сформулировать ценностное предложение для нового продукта."
   ]
  },
  {
   "cell_type": "markdown",
   "metadata": {},
   "source": [
    "## Изучение данных"
   ]
  },
  {
   "cell_type": "code",
   "execution_count": 1,
   "metadata": {},
   "outputs": [],
   "source": [
    "import pandas as pd\n",
    "from sqlalchemy import create_engine"
   ]
  },
  {
   "cell_type": "code",
   "execution_count": 4,
   "metadata": {},
   "outputs": [
    {
     "data": {
      "text/html": [
       "<div>\n",
       "<style scoped>\n",
       "    .dataframe tbody tr th:only-of-type {\n",
       "        vertical-align: middle;\n",
       "    }\n",
       "\n",
       "    .dataframe tbody tr th {\n",
       "        vertical-align: top;\n",
       "    }\n",
       "\n",
       "    .dataframe thead th {\n",
       "        text-align: right;\n",
       "    }\n",
       "</style>\n",
       "<table border=\"1\" class=\"dataframe\">\n",
       "  <thead>\n",
       "    <tr style=\"text-align: right;\">\n",
       "      <th></th>\n",
       "      <th>book_id</th>\n",
       "      <th>author_id</th>\n",
       "      <th>title</th>\n",
       "      <th>num_pages</th>\n",
       "      <th>publication_date</th>\n",
       "      <th>publisher_id</th>\n",
       "    </tr>\n",
       "  </thead>\n",
       "  <tbody>\n",
       "    <tr>\n",
       "      <th>0</th>\n",
       "      <td>1</td>\n",
       "      <td>546</td>\n",
       "      <td>'Salem's Lot</td>\n",
       "      <td>594</td>\n",
       "      <td>2005-11-01</td>\n",
       "      <td>93</td>\n",
       "    </tr>\n",
       "    <tr>\n",
       "      <th>1</th>\n",
       "      <td>2</td>\n",
       "      <td>465</td>\n",
       "      <td>1 000 Places to See Before You Die</td>\n",
       "      <td>992</td>\n",
       "      <td>2003-05-22</td>\n",
       "      <td>336</td>\n",
       "    </tr>\n",
       "    <tr>\n",
       "      <th>2</th>\n",
       "      <td>3</td>\n",
       "      <td>407</td>\n",
       "      <td>13 Little Blue Envelopes (Little Blue Envelope...</td>\n",
       "      <td>322</td>\n",
       "      <td>2010-12-21</td>\n",
       "      <td>135</td>\n",
       "    </tr>\n",
       "    <tr>\n",
       "      <th>3</th>\n",
       "      <td>4</td>\n",
       "      <td>82</td>\n",
       "      <td>1491: New Revelations of the Americas Before C...</td>\n",
       "      <td>541</td>\n",
       "      <td>2006-10-10</td>\n",
       "      <td>309</td>\n",
       "    </tr>\n",
       "    <tr>\n",
       "      <th>4</th>\n",
       "      <td>5</td>\n",
       "      <td>125</td>\n",
       "      <td>1776</td>\n",
       "      <td>386</td>\n",
       "      <td>2006-07-04</td>\n",
       "      <td>268</td>\n",
       "    </tr>\n",
       "  </tbody>\n",
       "</table>\n",
       "</div>"
      ],
      "text/plain": [
       "   book_id  author_id                                              title  \\\n",
       "0        1        546                                       'Salem's Lot   \n",
       "1        2        465                 1 000 Places to See Before You Die   \n",
       "2        3        407  13 Little Blue Envelopes (Little Blue Envelope...   \n",
       "3        4         82  1491: New Revelations of the Americas Before C...   \n",
       "4        5        125                                               1776   \n",
       "\n",
       "   num_pages publication_date  publisher_id  \n",
       "0        594       2005-11-01            93  \n",
       "1        992       2003-05-22           336  \n",
       "2        322       2010-12-21           135  \n",
       "3        541       2006-10-10           309  \n",
       "4        386       2006-07-04           268  "
      ]
     },
     "execution_count": 4,
     "metadata": {},
     "output_type": "execute_result"
    }
   ],
   "source": [
    "query = ''' SELECT *\n",
    "            FROM books\n",
    "            LIMIT 5;\n",
    "'''\n",
    "pd.io.sql.read_sql(query, con = engine)"
   ]
  },
  {
   "cell_type": "markdown",
   "metadata": {},
   "source": [
    "Таблица `books` содержит данные о книгах:\n",
    "- book_id — идентификатор книги;\n",
    "- author_id — идентификатор автора;\n",
    "- title — название книги;\n",
    "- num_pages — количество страниц;\n",
    "- publication_date — дата публикации книги;\n",
    "- publisher_id — идентификатор издателя."
   ]
  },
  {
   "cell_type": "code",
   "execution_count": 5,
   "metadata": {},
   "outputs": [
    {
     "data": {
      "text/html": [
       "<div>\n",
       "<style scoped>\n",
       "    .dataframe tbody tr th:only-of-type {\n",
       "        vertical-align: middle;\n",
       "    }\n",
       "\n",
       "    .dataframe tbody tr th {\n",
       "        vertical-align: top;\n",
       "    }\n",
       "\n",
       "    .dataframe thead th {\n",
       "        text-align: right;\n",
       "    }\n",
       "</style>\n",
       "<table border=\"1\" class=\"dataframe\">\n",
       "  <thead>\n",
       "    <tr style=\"text-align: right;\">\n",
       "      <th></th>\n",
       "      <th>author_id</th>\n",
       "      <th>author</th>\n",
       "    </tr>\n",
       "  </thead>\n",
       "  <tbody>\n",
       "    <tr>\n",
       "      <th>0</th>\n",
       "      <td>1</td>\n",
       "      <td>A.S. Byatt</td>\n",
       "    </tr>\n",
       "    <tr>\n",
       "      <th>1</th>\n",
       "      <td>2</td>\n",
       "      <td>Aesop/Laura Harris/Laura Gibbs</td>\n",
       "    </tr>\n",
       "    <tr>\n",
       "      <th>2</th>\n",
       "      <td>3</td>\n",
       "      <td>Agatha Christie</td>\n",
       "    </tr>\n",
       "    <tr>\n",
       "      <th>3</th>\n",
       "      <td>4</td>\n",
       "      <td>Alan Brennert</td>\n",
       "    </tr>\n",
       "    <tr>\n",
       "      <th>4</th>\n",
       "      <td>5</td>\n",
       "      <td>Alan Moore/David   Lloyd</td>\n",
       "    </tr>\n",
       "  </tbody>\n",
       "</table>\n",
       "</div>"
      ],
      "text/plain": [
       "   author_id                          author\n",
       "0          1                      A.S. Byatt\n",
       "1          2  Aesop/Laura Harris/Laura Gibbs\n",
       "2          3                 Agatha Christie\n",
       "3          4                   Alan Brennert\n",
       "4          5        Alan Moore/David   Lloyd"
      ]
     },
     "execution_count": 5,
     "metadata": {},
     "output_type": "execute_result"
    }
   ],
   "source": [
    "query = ''' SELECT *\n",
    "            FROM authors\n",
    "            LIMIT 5;\n",
    "'''\n",
    "pd.io.sql.read_sql(query, con = engine)"
   ]
  },
  {
   "cell_type": "markdown",
   "metadata": {},
   "source": [
    "Таблица `authors` содержит данные об авторах:\n",
    "- author_id — идентификатор автора;\n",
    "- author — имя автора."
   ]
  },
  {
   "cell_type": "code",
   "execution_count": 6,
   "metadata": {},
   "outputs": [
    {
     "data": {
      "text/html": [
       "<div>\n",
       "<style scoped>\n",
       "    .dataframe tbody tr th:only-of-type {\n",
       "        vertical-align: middle;\n",
       "    }\n",
       "\n",
       "    .dataframe tbody tr th {\n",
       "        vertical-align: top;\n",
       "    }\n",
       "\n",
       "    .dataframe thead th {\n",
       "        text-align: right;\n",
       "    }\n",
       "</style>\n",
       "<table border=\"1\" class=\"dataframe\">\n",
       "  <thead>\n",
       "    <tr style=\"text-align: right;\">\n",
       "      <th></th>\n",
       "      <th>publisher_id</th>\n",
       "      <th>publisher</th>\n",
       "    </tr>\n",
       "  </thead>\n",
       "  <tbody>\n",
       "    <tr>\n",
       "      <th>0</th>\n",
       "      <td>1</td>\n",
       "      <td>Ace</td>\n",
       "    </tr>\n",
       "    <tr>\n",
       "      <th>1</th>\n",
       "      <td>2</td>\n",
       "      <td>Ace Book</td>\n",
       "    </tr>\n",
       "    <tr>\n",
       "      <th>2</th>\n",
       "      <td>3</td>\n",
       "      <td>Ace Books</td>\n",
       "    </tr>\n",
       "    <tr>\n",
       "      <th>3</th>\n",
       "      <td>4</td>\n",
       "      <td>Ace Hardcover</td>\n",
       "    </tr>\n",
       "    <tr>\n",
       "      <th>4</th>\n",
       "      <td>5</td>\n",
       "      <td>Addison Wesley Publishing Company</td>\n",
       "    </tr>\n",
       "  </tbody>\n",
       "</table>\n",
       "</div>"
      ],
      "text/plain": [
       "   publisher_id                          publisher\n",
       "0             1                                Ace\n",
       "1             2                           Ace Book\n",
       "2             3                          Ace Books\n",
       "3             4                      Ace Hardcover\n",
       "4             5  Addison Wesley Publishing Company"
      ]
     },
     "execution_count": 6,
     "metadata": {},
     "output_type": "execute_result"
    }
   ],
   "source": [
    "query = ''' SELECT *\n",
    "            FROM publishers\n",
    "            LIMIT 5;\n",
    "'''\n",
    "pd.io.sql.read_sql(query, con = engine)"
   ]
  },
  {
   "cell_type": "markdown",
   "metadata": {},
   "source": [
    "Таблица `publishers` содержит данные об издательствах:\n",
    "- publisher_id — идентификатор издательства;\n",
    "- publisher — название издательства;"
   ]
  },
  {
   "cell_type": "code",
   "execution_count": 7,
   "metadata": {},
   "outputs": [
    {
     "data": {
      "text/html": [
       "<div>\n",
       "<style scoped>\n",
       "    .dataframe tbody tr th:only-of-type {\n",
       "        vertical-align: middle;\n",
       "    }\n",
       "\n",
       "    .dataframe tbody tr th {\n",
       "        vertical-align: top;\n",
       "    }\n",
       "\n",
       "    .dataframe thead th {\n",
       "        text-align: right;\n",
       "    }\n",
       "</style>\n",
       "<table border=\"1\" class=\"dataframe\">\n",
       "  <thead>\n",
       "    <tr style=\"text-align: right;\">\n",
       "      <th></th>\n",
       "      <th>rating_id</th>\n",
       "      <th>book_id</th>\n",
       "      <th>username</th>\n",
       "      <th>rating</th>\n",
       "    </tr>\n",
       "  </thead>\n",
       "  <tbody>\n",
       "    <tr>\n",
       "      <th>0</th>\n",
       "      <td>1</td>\n",
       "      <td>1</td>\n",
       "      <td>ryanfranco</td>\n",
       "      <td>4</td>\n",
       "    </tr>\n",
       "    <tr>\n",
       "      <th>1</th>\n",
       "      <td>2</td>\n",
       "      <td>1</td>\n",
       "      <td>grantpatricia</td>\n",
       "      <td>2</td>\n",
       "    </tr>\n",
       "    <tr>\n",
       "      <th>2</th>\n",
       "      <td>3</td>\n",
       "      <td>1</td>\n",
       "      <td>brandtandrea</td>\n",
       "      <td>5</td>\n",
       "    </tr>\n",
       "    <tr>\n",
       "      <th>3</th>\n",
       "      <td>4</td>\n",
       "      <td>2</td>\n",
       "      <td>lorichen</td>\n",
       "      <td>3</td>\n",
       "    </tr>\n",
       "    <tr>\n",
       "      <th>4</th>\n",
       "      <td>5</td>\n",
       "      <td>2</td>\n",
       "      <td>mariokeller</td>\n",
       "      <td>2</td>\n",
       "    </tr>\n",
       "  </tbody>\n",
       "</table>\n",
       "</div>"
      ],
      "text/plain": [
       "   rating_id  book_id       username  rating\n",
       "0          1        1     ryanfranco       4\n",
       "1          2        1  grantpatricia       2\n",
       "2          3        1   brandtandrea       5\n",
       "3          4        2       lorichen       3\n",
       "4          5        2    mariokeller       2"
      ]
     },
     "execution_count": 7,
     "metadata": {},
     "output_type": "execute_result"
    }
   ],
   "source": [
    "query = ''' SELECT *\n",
    "            FROM ratings\n",
    "            LIMIT 5;\n",
    "'''\n",
    "pd.io.sql.read_sql(query, con = engine)"
   ]
  },
  {
   "cell_type": "markdown",
   "metadata": {},
   "source": [
    "Таблица `ratings` содержит данные о пользовательских оценках книг:\n",
    "- rating_id — идентификатор оценки;\n",
    "- book_id — идентификатор книги;\n",
    "- username — имя пользователя, оставившего оценку;\n",
    "- rating — оценка книги."
   ]
  },
  {
   "cell_type": "code",
   "execution_count": 8,
   "metadata": {},
   "outputs": [
    {
     "data": {
      "text/html": [
       "<div>\n",
       "<style scoped>\n",
       "    .dataframe tbody tr th:only-of-type {\n",
       "        vertical-align: middle;\n",
       "    }\n",
       "\n",
       "    .dataframe tbody tr th {\n",
       "        vertical-align: top;\n",
       "    }\n",
       "\n",
       "    .dataframe thead th {\n",
       "        text-align: right;\n",
       "    }\n",
       "</style>\n",
       "<table border=\"1\" class=\"dataframe\">\n",
       "  <thead>\n",
       "    <tr style=\"text-align: right;\">\n",
       "      <th></th>\n",
       "      <th>review_id</th>\n",
       "      <th>book_id</th>\n",
       "      <th>username</th>\n",
       "      <th>text</th>\n",
       "    </tr>\n",
       "  </thead>\n",
       "  <tbody>\n",
       "    <tr>\n",
       "      <th>0</th>\n",
       "      <td>1</td>\n",
       "      <td>1</td>\n",
       "      <td>brandtandrea</td>\n",
       "      <td>Mention society tell send professor analysis. ...</td>\n",
       "    </tr>\n",
       "    <tr>\n",
       "      <th>1</th>\n",
       "      <td>2</td>\n",
       "      <td>1</td>\n",
       "      <td>ryanfranco</td>\n",
       "      <td>Foot glass pretty audience hit themselves. Amo...</td>\n",
       "    </tr>\n",
       "    <tr>\n",
       "      <th>2</th>\n",
       "      <td>3</td>\n",
       "      <td>2</td>\n",
       "      <td>lorichen</td>\n",
       "      <td>Listen treat keep worry. Miss husband tax but ...</td>\n",
       "    </tr>\n",
       "    <tr>\n",
       "      <th>3</th>\n",
       "      <td>4</td>\n",
       "      <td>3</td>\n",
       "      <td>johnsonamanda</td>\n",
       "      <td>Finally month interesting blue could nature cu...</td>\n",
       "    </tr>\n",
       "    <tr>\n",
       "      <th>4</th>\n",
       "      <td>5</td>\n",
       "      <td>3</td>\n",
       "      <td>scotttamara</td>\n",
       "      <td>Nation purpose heavy give wait song will. List...</td>\n",
       "    </tr>\n",
       "  </tbody>\n",
       "</table>\n",
       "</div>"
      ],
      "text/plain": [
       "   review_id  book_id       username  \\\n",
       "0          1        1   brandtandrea   \n",
       "1          2        1     ryanfranco   \n",
       "2          3        2       lorichen   \n",
       "3          4        3  johnsonamanda   \n",
       "4          5        3    scotttamara   \n",
       "\n",
       "                                                text  \n",
       "0  Mention society tell send professor analysis. ...  \n",
       "1  Foot glass pretty audience hit themselves. Amo...  \n",
       "2  Listen treat keep worry. Miss husband tax but ...  \n",
       "3  Finally month interesting blue could nature cu...  \n",
       "4  Nation purpose heavy give wait song will. List...  "
      ]
     },
     "execution_count": 8,
     "metadata": {},
     "output_type": "execute_result"
    }
   ],
   "source": [
    "query = ''' SELECT *\n",
    "            FROM reviews\n",
    "            LIMIT 5;\n",
    "'''\n",
    "pd.io.sql.read_sql(query, con = engine)"
   ]
  },
  {
   "cell_type": "markdown",
   "metadata": {},
   "source": [
    "Таблица `reviews` содержит данные о пользовательских обзорах:\n",
    "- review_id — идентификатор обзора;\n",
    "- book_id — идентификатор книги;\n",
    "- username — имя автора обзора;\n",
    "- text — текст обзора."
   ]
  },
  {
   "cell_type": "markdown",
   "metadata": {},
   "source": [
    "## SQL-запросы"
   ]
  },
  {
   "cell_type": "markdown",
   "metadata": {},
   "source": [
    "### Посчитайте, сколько книг вышло после 1 января 2000 года."
   ]
  },
  {
   "cell_type": "code",
   "execution_count": 9,
   "metadata": {},
   "outputs": [
    {
     "data": {
      "text/html": [
       "<div>\n",
       "<style scoped>\n",
       "    .dataframe tbody tr th:only-of-type {\n",
       "        vertical-align: middle;\n",
       "    }\n",
       "\n",
       "    .dataframe tbody tr th {\n",
       "        vertical-align: top;\n",
       "    }\n",
       "\n",
       "    .dataframe thead th {\n",
       "        text-align: right;\n",
       "    }\n",
       "</style>\n",
       "<table border=\"1\" class=\"dataframe\">\n",
       "  <thead>\n",
       "    <tr style=\"text-align: right;\">\n",
       "      <th></th>\n",
       "      <th>count</th>\n",
       "    </tr>\n",
       "  </thead>\n",
       "  <tbody>\n",
       "    <tr>\n",
       "      <th>0</th>\n",
       "      <td>819</td>\n",
       "    </tr>\n",
       "  </tbody>\n",
       "</table>\n",
       "</div>"
      ],
      "text/plain": [
       "   count\n",
       "0    819"
      ]
     },
     "execution_count": 9,
     "metadata": {},
     "output_type": "execute_result"
    }
   ],
   "source": [
    "query = ''' SELECT COUNT(book_id)\n",
    "            FROM books\n",
    "            WHERE publication_date > '2000-01-01';\n",
    "'''\n",
    "pd.io.sql.read_sql(query, con = engine)"
   ]
  },
  {
   "cell_type": "markdown",
   "metadata": {},
   "source": [
    "### Для каждой книги посчитайте количество обзоров и среднюю оценку."
   ]
  },
  {
   "cell_type": "code",
   "execution_count": 10,
   "metadata": {},
   "outputs": [
    {
     "data": {
      "text/html": [
       "<div>\n",
       "<style scoped>\n",
       "    .dataframe tbody tr th:only-of-type {\n",
       "        vertical-align: middle;\n",
       "    }\n",
       "\n",
       "    .dataframe tbody tr th {\n",
       "        vertical-align: top;\n",
       "    }\n",
       "\n",
       "    .dataframe thead th {\n",
       "        text-align: right;\n",
       "    }\n",
       "</style>\n",
       "<table border=\"1\" class=\"dataframe\">\n",
       "  <thead>\n",
       "    <tr style=\"text-align: right;\">\n",
       "      <th></th>\n",
       "      <th>title</th>\n",
       "      <th>count</th>\n",
       "      <th>avg</th>\n",
       "    </tr>\n",
       "  </thead>\n",
       "  <tbody>\n",
       "    <tr>\n",
       "      <th>0</th>\n",
       "      <td>Twilight (Twilight  #1)</td>\n",
       "      <td>7</td>\n",
       "      <td>3.662500</td>\n",
       "    </tr>\n",
       "    <tr>\n",
       "      <th>1</th>\n",
       "      <td>Harry Potter and the Prisoner of Azkaban (Harr...</td>\n",
       "      <td>6</td>\n",
       "      <td>4.414634</td>\n",
       "    </tr>\n",
       "    <tr>\n",
       "      <th>2</th>\n",
       "      <td>Harry Potter and the Chamber of Secrets (Harry...</td>\n",
       "      <td>6</td>\n",
       "      <td>4.287500</td>\n",
       "    </tr>\n",
       "    <tr>\n",
       "      <th>3</th>\n",
       "      <td>The Book Thief</td>\n",
       "      <td>6</td>\n",
       "      <td>4.264151</td>\n",
       "    </tr>\n",
       "    <tr>\n",
       "      <th>4</th>\n",
       "      <td>The Glass Castle</td>\n",
       "      <td>6</td>\n",
       "      <td>4.206897</td>\n",
       "    </tr>\n",
       "    <tr>\n",
       "      <th>...</th>\n",
       "      <td>...</td>\n",
       "      <td>...</td>\n",
       "      <td>...</td>\n",
       "    </tr>\n",
       "    <tr>\n",
       "      <th>995</th>\n",
       "      <td>Leonardo's Notebooks</td>\n",
       "      <td>0</td>\n",
       "      <td>4.000000</td>\n",
       "    </tr>\n",
       "    <tr>\n",
       "      <th>996</th>\n",
       "      <td>Disney's Beauty and the Beast (A Little Golden...</td>\n",
       "      <td>0</td>\n",
       "      <td>4.000000</td>\n",
       "    </tr>\n",
       "    <tr>\n",
       "      <th>997</th>\n",
       "      <td>Essential Tales and Poems</td>\n",
       "      <td>0</td>\n",
       "      <td>4.000000</td>\n",
       "    </tr>\n",
       "    <tr>\n",
       "      <th>998</th>\n",
       "      <td>Anne Rice's The Vampire Lestat: A Graphic Novel</td>\n",
       "      <td>0</td>\n",
       "      <td>3.666667</td>\n",
       "    </tr>\n",
       "    <tr>\n",
       "      <th>999</th>\n",
       "      <td>The Natural Way to Draw</td>\n",
       "      <td>0</td>\n",
       "      <td>3.000000</td>\n",
       "    </tr>\n",
       "  </tbody>\n",
       "</table>\n",
       "<p>1000 rows × 3 columns</p>\n",
       "</div>"
      ],
      "text/plain": [
       "                                                 title  count       avg\n",
       "0                              Twilight (Twilight  #1)      7  3.662500\n",
       "1    Harry Potter and the Prisoner of Azkaban (Harr...      6  4.414634\n",
       "2    Harry Potter and the Chamber of Secrets (Harry...      6  4.287500\n",
       "3                                       The Book Thief      6  4.264151\n",
       "4                                     The Glass Castle      6  4.206897\n",
       "..                                                 ...    ...       ...\n",
       "995                               Leonardo's Notebooks      0  4.000000\n",
       "996  Disney's Beauty and the Beast (A Little Golden...      0  4.000000\n",
       "997                          Essential Tales and Poems      0  4.000000\n",
       "998    Anne Rice's The Vampire Lestat: A Graphic Novel      0  3.666667\n",
       "999                            The Natural Way to Draw      0  3.000000\n",
       "\n",
       "[1000 rows x 3 columns]"
      ]
     },
     "execution_count": 10,
     "metadata": {},
     "output_type": "execute_result"
    }
   ],
   "source": [
    "query = ''' SELECT title,\n",
    "                   COALESCE (count, 0) AS count,\n",
    "                   avg\n",
    "            FROM books AS b\n",
    "            LEFT OUTER JOIN (SELECT book_id,\n",
    "                                    COUNT(review_id)\n",
    "                             FROM reviews\n",
    "                             GROUP BY book_id) AS r_count ON b.book_id = r_count.book_id\n",
    "            LEFT OUTER JOIN (SELECT book_id,\n",
    "                                    AVG(rating)\n",
    "                             FROM ratings\n",
    "                             GROUP BY book_id) AS r_avg ON b.book_id = r_avg.book_id\n",
    "            ORDER BY count DESC,\n",
    "                     avg DESC;\n",
    "\n",
    "'''\n",
    "pd.io.sql.read_sql(query, con = engine)"
   ]
  },
  {
   "cell_type": "markdown",
   "metadata": {},
   "source": [
    "### Определите издательство, которое выпустило наибольшее число книг толще 50 страниц — так вы исключите из анализа брошюры."
   ]
  },
  {
   "cell_type": "code",
   "execution_count": 11,
   "metadata": {},
   "outputs": [
    {
     "data": {
      "text/html": [
       "<div>\n",
       "<style scoped>\n",
       "    .dataframe tbody tr th:only-of-type {\n",
       "        vertical-align: middle;\n",
       "    }\n",
       "\n",
       "    .dataframe tbody tr th {\n",
       "        vertical-align: top;\n",
       "    }\n",
       "\n",
       "    .dataframe thead th {\n",
       "        text-align: right;\n",
       "    }\n",
       "</style>\n",
       "<table border=\"1\" class=\"dataframe\">\n",
       "  <thead>\n",
       "    <tr style=\"text-align: right;\">\n",
       "      <th></th>\n",
       "      <th>publisher</th>\n",
       "      <th>count</th>\n",
       "    </tr>\n",
       "  </thead>\n",
       "  <tbody>\n",
       "    <tr>\n",
       "      <th>0</th>\n",
       "      <td>Penguin Books</td>\n",
       "      <td>42</td>\n",
       "    </tr>\n",
       "  </tbody>\n",
       "</table>\n",
       "</div>"
      ],
      "text/plain": [
       "       publisher  count\n",
       "0  Penguin Books     42"
      ]
     },
     "execution_count": 11,
     "metadata": {},
     "output_type": "execute_result"
    }
   ],
   "source": [
    "query = ''' SELECT publisher,\n",
    "                   count\n",
    "            FROM publishers AS p\n",
    "            JOIN (SELECT publisher_id,\n",
    "                         COUNT(book_id)\n",
    "                  FROM books\n",
    "                  WHERE num_pages > 50\n",
    "                  GROUP BY publisher_id\n",
    "                  ORDER BY COUNT(book_id) DESC\n",
    "                  LIMIT 1) AS best_p ON p.publisher_id = best_p.publisher_id;\n",
    "'''\n",
    "pd.io.sql.read_sql(query, con = engine)"
   ]
  },
  {
   "cell_type": "markdown",
   "metadata": {},
   "source": [
    "### Определите автора с самой высокой средней оценкой книг — учитывайте только книги с 50 и более оценками."
   ]
  },
  {
   "cell_type": "code",
   "execution_count": 12,
   "metadata": {
    "scrolled": false
   },
   "outputs": [
    {
     "data": {
      "text/html": [
       "<div>\n",
       "<style scoped>\n",
       "    .dataframe tbody tr th:only-of-type {\n",
       "        vertical-align: middle;\n",
       "    }\n",
       "\n",
       "    .dataframe tbody tr th {\n",
       "        vertical-align: top;\n",
       "    }\n",
       "\n",
       "    .dataframe thead th {\n",
       "        text-align: right;\n",
       "    }\n",
       "</style>\n",
       "<table border=\"1\" class=\"dataframe\">\n",
       "  <thead>\n",
       "    <tr style=\"text-align: right;\">\n",
       "      <th></th>\n",
       "      <th>author</th>\n",
       "      <th>avg</th>\n",
       "    </tr>\n",
       "  </thead>\n",
       "  <tbody>\n",
       "    <tr>\n",
       "      <th>0</th>\n",
       "      <td>J.K. Rowling/Mary GrandPré</td>\n",
       "      <td>4.283844</td>\n",
       "    </tr>\n",
       "  </tbody>\n",
       "</table>\n",
       "</div>"
      ],
      "text/plain": [
       "                       author       avg\n",
       "0  J.K. Rowling/Mary GrandPré  4.283844"
      ]
     },
     "execution_count": 12,
     "metadata": {},
     "output_type": "execute_result"
    }
   ],
   "source": [
    "query = ''' SELECT a.author,\n",
    "                   AVG(avg)\n",
    "            FROM (SELECT book_id,\n",
    "                         COUNT(rating_id),\n",
    "                         AVG (rating)\n",
    "                  FROM ratings \n",
    "                  GROUP BY book_id\n",
    "                  HAVING COUNT(rating_id) >= 50) AS more_than_fifty\n",
    "            JOIN books AS b ON more_than_fifty.book_id = b.book_id\n",
    "            JOIN authors AS a ON b.author_id = a.author_id\n",
    "            GROUP BY a.author\n",
    "            ORDER BY AVG(avg) DESC\n",
    "            LIMIT 1;\n",
    "'''\n",
    "pd.io.sql.read_sql(query, con = engine)"
   ]
  },
  {
   "cell_type": "markdown",
   "metadata": {},
   "source": [
    "### Посчитайте среднее количество обзоров от пользователей, которые поставили больше 50 оценок."
   ]
  },
  {
   "cell_type": "code",
   "execution_count": 13,
   "metadata": {},
   "outputs": [
    {
     "data": {
      "text/html": [
       "<div>\n",
       "<style scoped>\n",
       "    .dataframe tbody tr th:only-of-type {\n",
       "        vertical-align: middle;\n",
       "    }\n",
       "\n",
       "    .dataframe tbody tr th {\n",
       "        vertical-align: top;\n",
       "    }\n",
       "\n",
       "    .dataframe thead th {\n",
       "        text-align: right;\n",
       "    }\n",
       "</style>\n",
       "<table border=\"1\" class=\"dataframe\">\n",
       "  <thead>\n",
       "    <tr style=\"text-align: right;\">\n",
       "      <th></th>\n",
       "      <th>avg</th>\n",
       "    </tr>\n",
       "  </thead>\n",
       "  <tbody>\n",
       "    <tr>\n",
       "      <th>0</th>\n",
       "      <td>24.333333</td>\n",
       "    </tr>\n",
       "  </tbody>\n",
       "</table>\n",
       "</div>"
      ],
      "text/plain": [
       "         avg\n",
       "0  24.333333"
      ]
     },
     "execution_count": 13,
     "metadata": {},
     "output_type": "execute_result"
    }
   ],
   "source": [
    "query = ''' SELECT AVG(count_of_reviews)\n",
    "            FROM (SELECT username,\n",
    "                         COUNT (review_id) AS count_of_reviews\n",
    "                  FROM reviews\n",
    "                  GROUP BY username) AS user_reviews\n",
    "            JOIN (SELECT username,\n",
    "                  COUNT (rating_id) AS count_of_ratings\n",
    "                  FROM ratings\n",
    "                  GROUP BY username\n",
    "                  HAVING COUNT (rating_id) > 50) AS user_ratings ON user_reviews.username = user_ratings.username;\n",
    "'''\n",
    "pd.io.sql.read_sql(query, con = engine)"
   ]
  },
  {
   "cell_type": "markdown",
   "metadata": {},
   "source": [
    "## Выводы"
   ]
  },
  {
   "cell_type": "markdown",
   "metadata": {},
   "source": [
    "- После 1 января 2000 года вышло 819 книг.\n",
    "- Топ-3 книг по количеству обзоров и средней оценке:\n",
    " 1. Сумерки (7 обзоров, средняя оценка 3.66)\n",
    " 2. Гарри Поттер и узник Азкабана (7 обзоров, средняя оценка 4.41)\n",
    " 3. Гарри Поттер и тайная комната (6 обзоров, средняя оценка 4.29).\n",
    "- Наибольшее число книг выпустило издательство Penguin Books.\n",
    "- Джоан Роулинг - автор с самой высокой средней оценкой книг (4.28).\n",
    "- Пользователи, которые поставили больше 50 оценок, написали в среднем 24 обзора."
   ]
  }
 ],
 "metadata": {
  "ExecuteTimeLog": [
   {
    "duration": 6241,
    "start_time": "2022-07-28T12:29:18.505Z"
   },
   {
    "duration": 277,
    "start_time": "2022-07-28T12:32:16.770Z"
   },
   {
    "duration": 2,
    "start_time": "2022-07-28T12:33:38.025Z"
   },
   {
    "duration": 217,
    "start_time": "2022-07-28T12:33:50.328Z"
   },
   {
    "duration": 136,
    "start_time": "2022-07-28T12:38:18.353Z"
   },
   {
    "duration": 161,
    "start_time": "2022-07-28T12:42:02.524Z"
   },
   {
    "duration": 66,
    "start_time": "2022-07-28T12:46:20.837Z"
   },
   {
    "duration": 70,
    "start_time": "2022-07-28T12:47:31.572Z"
   },
   {
    "duration": 69,
    "start_time": "2022-07-28T12:47:36.726Z"
   },
   {
    "duration": 108,
    "start_time": "2022-07-28T12:49:08.530Z"
   },
   {
    "duration": 101,
    "start_time": "2022-07-28T12:50:59.004Z"
   },
   {
    "duration": 101,
    "start_time": "2022-07-28T12:51:11.726Z"
   },
   {
    "duration": 101,
    "start_time": "2022-07-28T12:52:54.576Z"
   },
   {
    "duration": 71,
    "start_time": "2022-07-28T13:10:41.582Z"
   },
   {
    "duration": 126,
    "start_time": "2022-07-28T13:12:09.128Z"
   },
   {
    "duration": 124,
    "start_time": "2022-07-28T13:12:18.380Z"
   },
   {
    "duration": 132,
    "start_time": "2022-07-28T13:12:39.491Z"
   },
   {
    "duration": 70,
    "start_time": "2022-07-28T13:15:29.082Z"
   },
   {
    "duration": 71,
    "start_time": "2022-07-28T13:16:19.538Z"
   },
   {
    "duration": 142,
    "start_time": "2022-07-28T13:17:24.286Z"
   },
   {
    "duration": 69,
    "start_time": "2022-07-28T13:18:11.261Z"
   },
   {
    "duration": 70,
    "start_time": "2022-07-28T13:18:32.879Z"
   },
   {
    "duration": 70,
    "start_time": "2022-07-28T13:20:23.340Z"
   },
   {
    "duration": 74,
    "start_time": "2022-07-28T13:20:37.889Z"
   },
   {
    "duration": 73,
    "start_time": "2022-07-28T13:21:31.941Z"
   },
   {
    "duration": 137,
    "start_time": "2022-07-28T13:23:36.299Z"
   },
   {
    "duration": 263,
    "start_time": "2022-07-28T13:23:55.243Z"
   },
   {
    "duration": 123,
    "start_time": "2022-07-28T13:24:12.838Z"
   },
   {
    "duration": 76,
    "start_time": "2022-07-28T13:29:31.119Z"
   },
   {
    "duration": 236,
    "start_time": "2022-07-28T13:34:23.313Z"
   },
   {
    "duration": 72,
    "start_time": "2022-07-28T13:36:09.740Z"
   },
   {
    "duration": 74,
    "start_time": "2022-07-28T13:36:18.666Z"
   },
   {
    "duration": 75,
    "start_time": "2022-07-28T13:38:59.286Z"
   },
   {
    "duration": 76,
    "start_time": "2022-07-28T13:39:08.484Z"
   },
   {
    "duration": 92,
    "start_time": "2022-07-28T13:41:46.307Z"
   },
   {
    "duration": 103,
    "start_time": "2022-07-28T13:42:24.016Z"
   },
   {
    "duration": 152,
    "start_time": "2022-07-28T13:45:43.401Z"
   },
   {
    "duration": 426,
    "start_time": "2022-07-28T13:47:13.098Z"
   },
   {
    "duration": 3469,
    "start_time": "2022-07-28T13:49:13.162Z"
   },
   {
    "duration": 71,
    "start_time": "2022-07-28T13:49:58.450Z"
   },
   {
    "duration": 68,
    "start_time": "2022-07-28T13:54:59.439Z"
   },
   {
    "duration": 71,
    "start_time": "2022-07-28T13:55:22.475Z"
   },
   {
    "duration": 72,
    "start_time": "2022-07-28T13:57:34.740Z"
   },
   {
    "duration": 73,
    "start_time": "2022-07-28T13:58:55.201Z"
   },
   {
    "duration": 203,
    "start_time": "2022-07-28T14:02:36.609Z"
   },
   {
    "duration": 71,
    "start_time": "2022-07-28T14:03:03.312Z"
   },
   {
    "duration": 70,
    "start_time": "2022-07-28T14:07:28.312Z"
   },
   {
    "duration": 71,
    "start_time": "2022-07-28T14:07:39.450Z"
   },
   {
    "duration": 128,
    "start_time": "2022-07-28T14:08:43.152Z"
   },
   {
    "duration": 72,
    "start_time": "2022-07-28T14:09:19.472Z"
   },
   {
    "duration": 73,
    "start_time": "2022-07-28T14:12:06.452Z"
   },
   {
    "duration": 71,
    "start_time": "2022-07-28T14:12:55.145Z"
   },
   {
    "duration": 80,
    "start_time": "2022-07-28T14:21:10.602Z"
   },
   {
    "duration": 88,
    "start_time": "2022-07-28T14:22:35.606Z"
   },
   {
    "duration": 101,
    "start_time": "2022-07-28T14:22:40.947Z"
   },
   {
    "duration": 99,
    "start_time": "2022-07-28T14:27:53.005Z"
   },
   {
    "duration": 76,
    "start_time": "2022-07-28T14:29:17.333Z"
   },
   {
    "duration": 77,
    "start_time": "2022-07-28T14:30:33.481Z"
   },
   {
    "duration": 97,
    "start_time": "2022-07-28T14:31:11.388Z"
   },
   {
    "duration": 125,
    "start_time": "2022-07-28T14:31:47.139Z"
   },
   {
    "duration": 105,
    "start_time": "2022-07-28T14:32:04.468Z"
   },
   {
    "duration": 71,
    "start_time": "2022-07-28T14:36:25.455Z"
   },
   {
    "duration": 81,
    "start_time": "2022-07-28T14:37:50.613Z"
   },
   {
    "duration": 77,
    "start_time": "2022-07-28T14:39:33.417Z"
   },
   {
    "duration": 70,
    "start_time": "2022-07-28T14:40:43.140Z"
   },
   {
    "duration": 127,
    "start_time": "2022-07-28T14:46:45.873Z"
   },
   {
    "duration": 70,
    "start_time": "2022-07-28T14:49:27.890Z"
   },
   {
    "duration": 71,
    "start_time": "2022-07-28T14:54:54.877Z"
   },
   {
    "duration": 68,
    "start_time": "2022-07-28T15:04:34.542Z"
   },
   {
    "duration": 69,
    "start_time": "2022-07-28T15:06:19.426Z"
   },
   {
    "duration": 69,
    "start_time": "2022-07-28T15:07:18.840Z"
   },
   {
    "duration": 68,
    "start_time": "2022-07-28T15:07:53.416Z"
   },
   {
    "duration": 9330,
    "start_time": "2022-07-28T15:20:52.664Z"
   },
   {
    "duration": 262,
    "start_time": "2022-07-28T15:21:01.996Z"
   },
   {
    "duration": 72,
    "start_time": "2022-07-28T15:21:02.259Z"
   },
   {
    "duration": 71,
    "start_time": "2022-07-28T15:21:02.333Z"
   },
   {
    "duration": 72,
    "start_time": "2022-07-28T15:21:02.406Z"
   },
   {
    "duration": 88,
    "start_time": "2022-07-28T15:21:02.480Z"
   },
   {
    "duration": 75,
    "start_time": "2022-07-28T15:21:02.571Z"
   },
   {
    "duration": 112,
    "start_time": "2022-07-28T15:21:02.648Z"
   },
   {
    "duration": 75,
    "start_time": "2022-07-28T15:21:02.761Z"
   },
   {
    "duration": 75,
    "start_time": "2022-07-28T15:21:02.838Z"
   },
   {
    "duration": 73,
    "start_time": "2022-07-28T15:21:02.914Z"
   },
   {
    "duration": 10322,
    "start_time": "2022-07-29T06:29:46.585Z"
   },
   {
    "duration": 248,
    "start_time": "2022-07-29T06:29:56.909Z"
   },
   {
    "duration": 67,
    "start_time": "2022-07-29T06:29:57.160Z"
   },
   {
    "duration": 65,
    "start_time": "2022-07-29T06:29:57.230Z"
   },
   {
    "duration": 67,
    "start_time": "2022-07-29T06:29:57.297Z"
   },
   {
    "duration": 67,
    "start_time": "2022-07-29T06:29:57.366Z"
   },
   {
    "duration": 65,
    "start_time": "2022-07-29T06:29:57.435Z"
   },
   {
    "duration": 96,
    "start_time": "2022-07-29T06:29:57.502Z"
   },
   {
    "duration": 64,
    "start_time": "2022-07-29T06:29:57.600Z"
   },
   {
    "duration": 67,
    "start_time": "2022-07-29T06:29:57.666Z"
   },
   {
    "duration": 66,
    "start_time": "2022-07-29T06:29:57.735Z"
   },
   {
    "duration": 68,
    "start_time": "2022-07-29T06:31:10.382Z"
   },
   {
    "duration": 68,
    "start_time": "2022-07-29T06:31:12.531Z"
   },
   {
    "duration": 555,
    "start_time": "2022-07-29T06:36:55.833Z"
   },
   {
    "duration": 4,
    "start_time": "2022-07-29T06:36:56.391Z"
   },
   {
    "duration": 9583,
    "start_time": "2022-07-29T06:36:56.397Z"
   },
   {
    "duration": 76,
    "start_time": "2022-07-29T06:37:05.983Z"
   },
   {
    "duration": 13,
    "start_time": "2022-07-29T06:37:06.061Z"
   },
   {
    "duration": 21,
    "start_time": "2022-07-29T06:37:06.076Z"
   },
   {
    "duration": 18,
    "start_time": "2022-07-29T06:37:06.099Z"
   },
   {
    "duration": 18,
    "start_time": "2022-07-29T06:37:06.119Z"
   },
   {
    "duration": 14,
    "start_time": "2022-07-29T06:37:06.139Z"
   },
   {
    "duration": 27,
    "start_time": "2022-07-29T06:37:06.156Z"
   },
   {
    "duration": 27,
    "start_time": "2022-07-29T06:37:06.186Z"
   },
   {
    "duration": 18,
    "start_time": "2022-07-29T06:37:06.214Z"
   },
   {
    "duration": 19,
    "start_time": "2022-07-29T06:37:06.234Z"
   },
   {
    "duration": 17,
    "start_time": "2022-07-29T06:38:49.979Z"
   },
   {
    "duration": 21,
    "start_time": "2022-07-29T06:39:24.084Z"
   },
   {
    "duration": 12,
    "start_time": "2022-07-29T06:40:31.248Z"
   },
   {
    "duration": 25,
    "start_time": "2022-07-29T06:42:36.429Z"
   },
   {
    "duration": 27,
    "start_time": "2022-07-29T06:44:08.121Z"
   },
   {
    "duration": 165,
    "start_time": "2022-07-29T06:52:03.092Z"
   },
   {
    "duration": 97,
    "start_time": "2022-07-29T06:52:13.639Z"
   },
   {
    "duration": 36,
    "start_time": "2022-07-29T06:59:55.815Z"
   },
   {
    "duration": 36,
    "start_time": "2022-07-29T07:00:46.431Z"
   },
   {
    "duration": 27,
    "start_time": "2022-07-29T07:03:12.688Z"
   },
   {
    "duration": 97,
    "start_time": "2022-07-29T07:04:04.256Z"
   },
   {
    "duration": 25,
    "start_time": "2022-07-29T07:04:56.813Z"
   },
   {
    "duration": 100,
    "start_time": "2022-07-29T07:05:56.552Z"
   },
   {
    "duration": 110,
    "start_time": "2022-07-29T07:08:49.774Z"
   },
   {
    "duration": 162,
    "start_time": "2022-07-29T07:09:46.926Z"
   },
   {
    "duration": 116,
    "start_time": "2022-07-29T07:10:50.205Z"
   },
   {
    "duration": 829,
    "start_time": "2022-07-29T07:12:46.946Z"
   },
   {
    "duration": 35,
    "start_time": "2022-07-29T07:13:21.955Z"
   },
   {
    "duration": 296,
    "start_time": "2022-07-29T07:21:52.723Z"
   },
   {
    "duration": 24,
    "start_time": "2022-07-29T07:22:21.005Z"
   },
   {
    "duration": 26,
    "start_time": "2022-07-29T07:22:37.217Z"
   },
   {
    "duration": 98,
    "start_time": "2022-07-29T07:28:13.460Z"
   },
   {
    "duration": 109,
    "start_time": "2022-07-29T07:29:26.187Z"
   },
   {
    "duration": 143,
    "start_time": "2022-07-29T07:29:51.587Z"
   },
   {
    "duration": 96,
    "start_time": "2022-07-29T07:31:32.857Z"
   },
   {
    "duration": 132,
    "start_time": "2022-07-29T07:32:24.656Z"
   },
   {
    "duration": 26,
    "start_time": "2022-07-29T07:33:04.398Z"
   },
   {
    "duration": 519,
    "start_time": "2022-07-29T07:34:15.661Z"
   },
   {
    "duration": 5,
    "start_time": "2022-07-29T07:34:16.183Z"
   },
   {
    "duration": 9286,
    "start_time": "2022-07-29T07:34:16.190Z"
   },
   {
    "duration": 79,
    "start_time": "2022-07-29T07:34:25.478Z"
   },
   {
    "duration": 20,
    "start_time": "2022-07-29T07:34:25.560Z"
   },
   {
    "duration": 25,
    "start_time": "2022-07-29T07:34:25.582Z"
   },
   {
    "duration": 24,
    "start_time": "2022-07-29T07:34:25.610Z"
   },
   {
    "duration": 14,
    "start_time": "2022-07-29T07:34:25.636Z"
   },
   {
    "duration": 14,
    "start_time": "2022-07-29T07:34:25.652Z"
   },
   {
    "duration": 35,
    "start_time": "2022-07-29T07:34:25.670Z"
   },
   {
    "duration": 15,
    "start_time": "2022-07-29T07:34:25.710Z"
   },
   {
    "duration": 15,
    "start_time": "2022-07-29T07:34:25.727Z"
   },
   {
    "duration": 16,
    "start_time": "2022-07-29T07:34:25.744Z"
   },
   {
    "duration": 572,
    "start_time": "2022-07-29T14:05:11.604Z"
   },
   {
    "duration": 4,
    "start_time": "2022-07-29T14:05:12.178Z"
   },
   {
    "duration": 11113,
    "start_time": "2022-07-29T14:05:12.183Z"
   },
   {
    "duration": 232,
    "start_time": "2022-07-29T14:05:23.298Z"
   },
   {
    "duration": 67,
    "start_time": "2022-07-29T14:05:23.532Z"
   },
   {
    "duration": 66,
    "start_time": "2022-07-29T14:05:23.601Z"
   },
   {
    "duration": 68,
    "start_time": "2022-07-29T14:05:23.669Z"
   },
   {
    "duration": 69,
    "start_time": "2022-07-29T14:05:23.739Z"
   },
   {
    "duration": 65,
    "start_time": "2022-07-29T14:05:23.810Z"
   },
   {
    "duration": 96,
    "start_time": "2022-07-29T14:05:23.878Z"
   },
   {
    "duration": 66,
    "start_time": "2022-07-29T14:05:23.977Z"
   },
   {
    "duration": 70,
    "start_time": "2022-07-29T14:05:24.045Z"
   },
   {
    "duration": 76,
    "start_time": "2022-07-29T14:05:24.117Z"
   }
  ],
  "kernelspec": {
   "display_name": "Python 3 (ipykernel)",
   "language": "python",
   "name": "python3"
  },
  "language_info": {
   "codemirror_mode": {
    "name": "ipython",
    "version": 3
   },
   "file_extension": ".py",
   "mimetype": "text/x-python",
   "name": "python",
   "nbconvert_exporter": "python",
   "pygments_lexer": "ipython3",
   "version": "3.9.7"
  },
  "toc": {
   "base_numbering": 1,
   "nav_menu": {},
   "number_sections": true,
   "sideBar": true,
   "skip_h1_title": true,
   "title_cell": "Содержание",
   "title_sidebar": "Contents",
   "toc_cell": true,
   "toc_position": {},
   "toc_section_display": true,
   "toc_window_display": true
  }
 },
 "nbformat": 4,
 "nbformat_minor": 2
}
